{
 "cells": [
  {
   "cell_type": "markdown",
   "id": "c034d5c5",
   "metadata": {},
   "source": [
    "#  Started leaning different algorithms.\n",
    "## First algoritms : Binary algorithms\n"
   ]
  },
  {
   "cell_type": "code",
   "execution_count": 41,
   "id": "52a095d4",
   "metadata": {},
   "outputs": [],
   "source": [
    "import timeit"
   ]
  },
  {
   "cell_type": "code",
   "execution_count": 14,
   "id": "673ea550",
   "metadata": {},
   "outputs": [],
   "source": [
    "def simple_search(list, item):\n",
    "    low = 0\n",
    "    high = len(list) - 1\n",
    "    iteration = 0\n",
    "    \n",
    "    while low <= high:\n",
    "        mid = low + high\n",
    "        guess = list[mid]\n",
    "        iteration += 1\n",
    "        if guess == item:\n",
    "            return f'Element item found in index: \"{mid}\" Iterations: {iteration}'\n",
    "        elif guess > item:\n",
    "            high = mid - 1\n",
    "        else:\n",
    "            low = mid + 1\n",
    "    return None"
   ]
  },
  {
   "cell_type": "code",
   "execution_count": 15,
   "id": "b0802851",
   "metadata": {},
   "outputs": [],
   "source": [
    "def binary_search(list_, item):\n",
    "    low = 0\n",
    "    high = len(list_) - 1\n",
    "    iteration = 0\n",
    "    \n",
    "    while low <= high:\n",
    "        mid = (low + high) // 2\n",
    "        guess = list_[mid]\n",
    "        iteration += 1\n",
    "        if guess == item:\n",
    "            return f'Element item found in index: \"{mid}\" Iterations: {iteration}'\n",
    "        elif guess > item:\n",
    "            high = mid - 1\n",
    "        else:\n",
    "            low = mid + 1\n",
    "    return None"
   ]
  },
  {
   "cell_type": "code",
   "execution_count": 16,
   "id": "3652a13b",
   "metadata": {},
   "outputs": [
    {
     "name": "stdout",
     "output_type": "stream",
     "text": [
      "Element item found in index: \"1\" Iterations: 4\n"
     ]
    }
   ],
   "source": [
    "my_list = [1,3, 5, 7, 9, 52, 76, 99, 128, 425, 674]\n",
    "print(binary_search(my_list, 3))"
   ]
  },
  {
   "cell_type": "code",
   "execution_count": 17,
   "id": "b04f0739",
   "metadata": {},
   "outputs": [
    {
     "data": {
      "text/plain": [
       "'Element item found in index: \"264\" Iterations: 736'"
      ]
     },
     "execution_count": 17,
     "metadata": {},
     "output_type": "execute_result"
    }
   ],
   "source": [
    "list_check = [num for num in range(1000)]\n",
    "simple_search(list_check, 264)"
   ]
  },
  {
   "cell_type": "code",
   "execution_count": 18,
   "id": "9cdae40d",
   "metadata": {},
   "outputs": [
    {
     "data": {
      "text/plain": [
       "'Element item found in index: \"264\" Iterations: 6'"
      ]
     },
     "execution_count": 18,
     "metadata": {},
     "output_type": "execute_result"
    }
   ],
   "source": [
    "binary_search(list_check, 264)"
   ]
  },
  {
   "cell_type": "markdown",
   "id": "12479e39",
   "metadata": {},
   "source": [
    "## 22.12.2021 First try: create algorithm - binary search"
   ]
  },
  {
   "cell_type": "code",
   "execution_count": 30,
   "id": "3061cc49",
   "metadata": {},
   "outputs": [],
   "source": [
    "def binary_search_22_12_2021(list_, item):\n",
    "    low = 0\n",
    "    high = len(list_) - 1\n",
    "    iteration = 0\n",
    "    \n",
    "    while low<= high:\n",
    "        mid = (low + high) // 2\n",
    "        guess = list_[mid]\n",
    "        iteration += 1\n",
    "        if guess == item:\n",
    "            return f'Element item found in index: \"{mid}\" Iterations: {iteration}'\n",
    "        elif guess > item:\n",
    "            high = mid - 1\n",
    "        else:\n",
    "            low = mid + 1\n",
    "    return None"
   ]
  },
  {
   "cell_type": "code",
   "execution_count": 31,
   "id": "7f8e8ab0",
   "metadata": {},
   "outputs": [
    {
     "data": {
      "text/plain": [
       "('Element item found in index: \"6\" Iterations: 3',\n",
       " 'Element item found in index: \"6\" Iterations: 3')"
      ]
     },
     "execution_count": 31,
     "metadata": {},
     "output_type": "execute_result"
    }
   ],
   "source": [
    "list_22 = [1, 3, 7, 9, 11, 12, 13, 14]\n",
    "binary_search_22_12_2021(list_22, 13), binary_search(list_22, 13)\n"
   ]
  },
  {
   "cell_type": "markdown",
   "id": "4b124561",
   "metadata": {},
   "source": [
    "#### example O-big\n",
    "\n",
    "- $O(log n)$ - logarithmick time, example: binary search\n",
    "- $O(n)$ - linear time, example:simple search\n",
    "- $O(n * log n)$ - One is from the example - Effective algorithm sorting, example: quikly sorting\n",
    "- $O(n^2)$ - one is from the example - Slowly algorithm sorting(sort choose)\n",
    "- $O(n!)$ - the example is very slowly algorithm"
   ]
  },
  {
   "cell_type": "markdown",
   "id": "7e20c802",
   "metadata": {},
   "source": [
    "## Selection sort"
   ]
  },
  {
   "cell_type": "code",
   "execution_count": 20,
   "id": "12a37a19",
   "metadata": {},
   "outputs": [],
   "source": [
    "def selectionSort(arr):\n",
    "    newArr = []\n",
    "    for i in range(len(arr)):\n",
    "        smallest = arr.index(min(arr))\n",
    "        newArr.append(arr.pop(smallest))\n",
    "    return newArr"
   ]
  },
  {
   "cell_type": "code",
   "execution_count": 21,
   "id": "466ef97b",
   "metadata": {},
   "outputs": [
    {
     "data": {
      "text/plain": [
       "[2, 3, 5, 6, 10]"
      ]
     },
     "execution_count": 21,
     "metadata": {},
     "output_type": "execute_result"
    }
   ],
   "source": [
    "selectionSort([5, 3, 6, 2, 10])"
   ]
  },
  {
   "cell_type": "code",
   "execution_count": 22,
   "id": "64df67df",
   "metadata": {},
   "outputs": [],
   "source": [
    "class Area:\n",
    "    def __init__(self, dim1, dim2):\n",
    "        self.dim1 = dim1\n",
    "        self.dim2 = dim2"
   ]
  },
  {
   "cell_type": "code",
   "execution_count": 54,
   "id": "be7b89a4",
   "metadata": {},
   "outputs": [],
   "source": [
    "sum_area = 0\n",
    "def devide_and_conquer_area(dim1, dim2):\n",
    "    if dim1 == dim2 * 2:\n",
    "        return dim1 // 2, dim2\n",
    "    result = devide_and_conquer_area(dim2, dim1 - dim2 * (dim1 // dim2))\n",
    "    return result"
   ]
  },
  {
   "cell_type": "code",
   "execution_count": 55,
   "id": "7e36469e",
   "metadata": {},
   "outputs": [
    {
     "name": "stdout",
     "output_type": "stream",
     "text": [
      "(80, 80)\n"
     ]
    }
   ],
   "source": [
    "ar1 = Area(1680, 640)\n",
    "print(devide_and_conquer_area(ar1.dim1, ar1.dim2))"
   ]
  },
  {
   "cell_type": "code",
   "execution_count": 45,
   "id": "0d523690",
   "metadata": {},
   "outputs": [
    {
     "data": {
      "text/plain": [
       "2"
      ]
     },
     "execution_count": 45,
     "metadata": {},
     "output_type": "execute_result"
    }
   ],
   "source": [
    "1680 // 640"
   ]
  },
  {
   "cell_type": "code",
   "execution_count": 114,
   "id": "7b7d32f8",
   "metadata": {},
   "outputs": [],
   "source": [
    "def quate_sum(l):\n",
    "    midindex = len(l) // 2\n",
    "    if len(l) == 1:\n",
    "        return l[0]\n",
    "    result = quate_sum(l[:midindex]) + \\\n",
    "             quate_sum(l[midindex:])\n",
    "    return result"
   ]
  },
  {
   "cell_type": "code",
   "execution_count": 115,
   "id": "1cdc5013",
   "metadata": {},
   "outputs": [
    {
     "data": {
      "text/plain": [
       "58"
      ]
     },
     "execution_count": 115,
     "metadata": {},
     "output_type": "execute_result"
    }
   ],
   "source": [
    "l1 = [2, 4 ,6, 7, 28, 11]\n",
    "quate_sum(l1)"
   ]
  },
  {
   "cell_type": "code",
   "execution_count": null,
   "id": "f92a6f0f",
   "metadata": {},
   "outputs": [],
   "source": []
  }
 ],
 "metadata": {
  "kernelspec": {
   "display_name": "Python 3 (ipykernel)",
   "language": "python",
   "name": "python3"
  },
  "language_info": {
   "codemirror_mode": {
    "name": "ipython",
    "version": 3
   },
   "file_extension": ".py",
   "mimetype": "text/x-python",
   "name": "python",
   "nbconvert_exporter": "python",
   "pygments_lexer": "ipython3",
   "version": "3.8.10"
  },
  "toc": {
   "base_numbering": 1,
   "nav_menu": {},
   "number_sections": true,
   "sideBar": true,
   "skip_h1_title": false,
   "title_cell": "Table of Contents",
   "title_sidebar": "Contents",
   "toc_cell": false,
   "toc_position": {
    "height": "calc(100% - 180px)",
    "left": "10px",
    "top": "150px",
    "width": "384px"
   },
   "toc_section_display": true,
   "toc_window_display": false
  }
 },
 "nbformat": 4,
 "nbformat_minor": 5
}
