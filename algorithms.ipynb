{
 "cells": [
  {
   "cell_type": "markdown",
   "id": "c034d5c5",
   "metadata": {},
   "source": [
    "#  Started leaning different algorithms.\n",
    "## First algoritms : Binary algorithms\n"
   ]
  },
  {
   "cell_type": "code",
   "execution_count": 11,
   "id": "52a095d4",
   "metadata": {},
   "outputs": [],
   "source": [
    "import timeit"
   ]
  },
  {
   "cell_type": "code",
   "execution_count": 12,
   "id": "673ea550",
   "metadata": {},
   "outputs": [],
   "source": [
    "def simple_search(list, item):\n",
    "    low = 0\n",
    "    high = len(list) - 1\n",
    "    iteration = 0\n",
    "    \n",
    "    while low <= high:\n",
    "        mid = low + high\n",
    "        guess = list[mid]\n",
    "        iteration += 1\n",
    "        if guess == item:\n",
    "            return f'Element item found in index: \"{mid}\" Iterations: {iteration}'\n",
    "        elif guess > item:\n",
    "            high = mid - 1\n",
    "        else:\n",
    "            low = mid + 1\n",
    "    return None"
   ]
  },
  {
   "cell_type": "code",
   "execution_count": 13,
   "id": "b0802851",
   "metadata": {},
   "outputs": [],
   "source": [
    "def binary_search(list_, item):\n",
    "    low = 0\n",
    "    high = len(list_) - 1\n",
    "    iteration = 0\n",
    "    \n",
    "    while low <= high:\n",
    "        mid = (low + high) // 2\n",
    "        guess = list_[mid]\n",
    "        iteration += 1\n",
    "        if guess == item:\n",
    "            return f'Element item found in index: \"{mid}\" Iterations: {iteration}'\n",
    "        elif guess > item:\n",
    "            high = mid - 1\n",
    "        else:\n",
    "            low = mid + 1\n",
    "    return None"
   ]
  },
  {
   "cell_type": "code",
   "execution_count": 14,
   "id": "3652a13b",
   "metadata": {},
   "outputs": [
    {
     "name": "stdout",
     "output_type": "stream",
     "text": [
      "Element item found in index: \"1\" Iterations: 4\n"
     ]
    }
   ],
   "source": [
    "my_list = [1,3, 5, 7, 9, 52, 76, 99, 128, 425, 674]\n",
    "print(binary_search(my_list, 3))"
   ]
  },
  {
   "cell_type": "code",
   "execution_count": 15,
   "id": "b04f0739",
   "metadata": {},
   "outputs": [
    {
     "data": {
      "text/plain": [
       "'Element item found in index: \"264\" Iterations: 736'"
      ]
     },
     "execution_count": 15,
     "metadata": {},
     "output_type": "execute_result"
    }
   ],
   "source": [
    "list_check = [num for num in range(1000)]\n",
    "simple_search(list_check, 264)"
   ]
  },
  {
   "cell_type": "code",
   "execution_count": 16,
   "id": "9cdae40d",
   "metadata": {},
   "outputs": [
    {
     "data": {
      "text/plain": [
       "'Element item found in index: \"264\" Iterations: 6'"
      ]
     },
     "execution_count": 16,
     "metadata": {},
     "output_type": "execute_result"
    }
   ],
   "source": [
    "binary_search(list_check, 264)"
   ]
  },
  {
   "cell_type": "markdown",
   "id": "12479e39",
   "metadata": {},
   "source": [
    "## 22.12.2021 First try: create algorithm - binary search"
   ]
  },
  {
   "cell_type": "code",
   "execution_count": 17,
   "id": "3061cc49",
   "metadata": {},
   "outputs": [],
   "source": [
    "def binary_search_22_12_2021(list_, item):\n",
    "    low = 0\n",
    "    high = len(list_) - 1\n",
    "    iteration = 0\n",
    "    \n",
    "    while low<= high:\n",
    "        mid = (low + high) // 2\n",
    "        guess = list_[mid]\n",
    "        iteration += 1\n",
    "        if guess == item:\n",
    "            return f'Element item found in index: \"{mid}\" Iterations: {iteration}'\n",
    "        elif guess > item:\n",
    "            high = mid - 1\n",
    "        else:\n",
    "            low = mid + 1\n",
    "    return None"
   ]
  },
  {
   "cell_type": "code",
   "execution_count": 18,
   "id": "7f8e8ab0",
   "metadata": {},
   "outputs": [
    {
     "data": {
      "text/plain": [
       "('Element item found in index: \"6\" Iterations: 3',\n",
       " 'Element item found in index: \"6\" Iterations: 3')"
      ]
     },
     "execution_count": 18,
     "metadata": {},
     "output_type": "execute_result"
    }
   ],
   "source": [
    "list_22 = [1, 3, 7, 9, 11, 12, 13, 14]\n",
    "binary_search_22_12_2021(list_22, 13), binary_search(list_22, 13)\n"
   ]
  },
  {
   "cell_type": "markdown",
   "id": "4b124561",
   "metadata": {},
   "source": [
    "#### example O-big\n",
    "\n",
    "- $O(log n)$ - logarithmick time, example: binary search\n",
    "- $O(n)$ - linear time, example:simple search\n",
    "- $O(n * log n)$ - One is from the example - Effective algorithm sorting, example: quikly sorting\n",
    "- $O(n^2)$ - one is from the example - Slowly algorithm sorting(sort choose)\n",
    "- $O(n!)$ - the example is very slowly algorithm"
   ]
  },
  {
   "cell_type": "markdown",
   "id": "7e20c802",
   "metadata": {},
   "source": [
    "## Selection sort"
   ]
  },
  {
   "cell_type": "code",
   "execution_count": 19,
   "id": "12a37a19",
   "metadata": {},
   "outputs": [],
   "source": [
    "def selectionSort(arr):\n",
    "    newArr = []\n",
    "    for i in range(len(arr)):\n",
    "        smallest = arr.index(min(arr))\n",
    "        newArr.append(arr.pop(smallest))\n",
    "    return newArr"
   ]
  },
  {
   "cell_type": "code",
   "execution_count": 20,
   "id": "466ef97b",
   "metadata": {},
   "outputs": [
    {
     "data": {
      "text/plain": [
       "[2, 3, 5, 6, 10]"
      ]
     },
     "execution_count": 20,
     "metadata": {},
     "output_type": "execute_result"
    }
   ],
   "source": [
    "selectionSort([5, 3, 6, 2, 10])"
   ]
  },
  {
   "cell_type": "code",
   "execution_count": 21,
   "id": "64df67df",
   "metadata": {},
   "outputs": [],
   "source": [
    "class Area:\n",
    "    def __init__(self, dim1, dim2):\n",
    "        self.dim1 = dim1\n",
    "        self.dim2 = dim2"
   ]
  },
  {
   "cell_type": "code",
   "execution_count": 22,
   "id": "be7b89a4",
   "metadata": {},
   "outputs": [],
   "source": [
    "sum_area = 0\n",
    "def devide_and_conquer_area(dim1, dim2):\n",
    "    if dim1 == dim2 * 2:\n",
    "        return dim1 // 2, dim2\n",
    "    result = devide_and_conquer_area(dim2, dim1 - dim2 * (dim1 // dim2))\n",
    "    return result"
   ]
  },
  {
   "cell_type": "code",
   "execution_count": 23,
   "id": "7e36469e",
   "metadata": {},
   "outputs": [
    {
     "name": "stdout",
     "output_type": "stream",
     "text": [
      "(80, 80)\n"
     ]
    }
   ],
   "source": [
    "ar1 = Area(1680, 640)\n",
    "print(devide_and_conquer_area(ar1.dim1, ar1.dim2))"
   ]
  },
  {
   "cell_type": "code",
   "execution_count": 24,
   "id": "0d523690",
   "metadata": {},
   "outputs": [
    {
     "data": {
      "text/plain": [
       "2"
      ]
     },
     "execution_count": 24,
     "metadata": {},
     "output_type": "execute_result"
    }
   ],
   "source": [
    "1680 // 640"
   ]
  },
  {
   "cell_type": "code",
   "execution_count": 30,
   "id": "7b7d32f8",
   "metadata": {},
   "outputs": [],
   "source": [
    "def quick_sum(l):\n",
    "    midindex = len(l) // 2\n",
    "    if len(l) == 1:\n",
    "        return l[0]\n",
    "    result = quick_sum(l[:midindex]) + \\\n",
    "             quick_sum(l[midindex:])\n",
    "    return result"
   ]
  },
  {
   "cell_type": "code",
   "execution_count": 36,
   "id": "3fad73bb",
   "metadata": {},
   "outputs": [
    {
     "data": {
      "text/plain": [
       "[2, 4, 6]"
      ]
     },
     "execution_count": 36,
     "metadata": {},
     "output_type": "execute_result"
    }
   ],
   "source": [
    "l1 = [2, 4 ,6, 7]\n",
    "quick_sum(l1)\n",
    "l1[0:-1]"
   ]
  },
  {
   "cell_type": "code",
   "execution_count": 43,
   "id": "1ad205f3",
   "metadata": {},
   "outputs": [],
   "source": [
    "def length_iter(iter_data):\n",
    "    pass"
   ]
  },
  {
   "cell_type": "markdown",
   "id": "7133cb11",
   "metadata": {},
   "source": [
    "## train recursion\n",
    "### От 1 до n\n",
    "Дано натуральное число n. Выведите все числа от 1 до n."
   ]
  },
  {
   "cell_type": "code",
   "execution_count": 79,
   "id": "f9e5ee51",
   "metadata": {},
   "outputs": [],
   "source": [
    "def from_1_to_n(n:int):\n",
    "    if n == 0:\n",
    "        return 0\n",
    "    result = from_1_to_n(n-1) + 1\n",
    "    print(result, end=\" \")\n",
    "    return result"
   ]
  },
  {
   "cell_type": "code",
   "execution_count": 80,
   "id": "64297fbc",
   "metadata": {},
   "outputs": [
    {
     "name": "stdout",
     "output_type": "stream",
     "text": [
      "1 2 3 4 5 "
     ]
    },
    {
     "data": {
      "text/plain": [
       "5"
      ]
     },
     "execution_count": 80,
     "metadata": {},
     "output_type": "execute_result"
    }
   ],
   "source": [
    "from_1_to_n(5)"
   ]
  },
  {
   "cell_type": "markdown",
   "id": "739de623",
   "metadata": {},
   "source": [
    "### От A до B\n",
    "Даны два целых числа A и В (каждое в отдельной строке). Выведите все числа от A до B включительно, в порядке возрастания, если A < B, или в порядке убывания в противном случаe"
   ]
  },
  {
   "cell_type": "code",
   "execution_count": 324,
   "id": "24ce5132",
   "metadata": {},
   "outputs": [],
   "source": [
    "# a < b\n",
    "def from_a_to_b_more(a:int, b:int):   \n",
    "    if b == a - 1:\n",
    "        return b\n",
    "    result = from_a_to_b_more(a, b - 1) + 1\n",
    "    print(result, end=' ')\n",
    "    return result"
   ]
  },
  {
   "cell_type": "code",
   "execution_count": 321,
   "id": "be38fa9d",
   "metadata": {},
   "outputs": [],
   "source": [
    "# a > b\n",
    "def from_a_to_b_less(a:int, b:int):   \n",
    "    if b - 1 == a:\n",
    "        return b\n",
    "    result = from_a_to_b_minus(a, b+1) - 1\n",
    "    print(result, end=' ')\n",
    "    return result"
   ]
  },
  {
   "cell_type": "code",
   "execution_count": 322,
   "id": "83b38a37",
   "metadata": {},
   "outputs": [],
   "source": [
    "# a < b or  a > b\n",
    "def from_a_to_b(a:int, b:int):\n",
    "    def from_a_to_b_main(a:int, b:int, w:tuple):\n",
    "        w1, w2, w3, w4 = w\n",
    "        if b + 1 * w1 == a + 1 * w2:\n",
    "            return a - 1 * w4\n",
    "        result = from_a_to_b_main(a, b + 1 * w3, w) + 1 * w4\n",
    "        print(result, end=' ')\n",
    "        return result\n",
    "\n",
    "    w = (0, -1, -1, 1) if a < b else (-1, 0, 1, -1)\n",
    "    from_a_to_b_main(a, b, w)"
   ]
  },
  {
   "cell_type": "code",
   "execution_count": 331,
   "id": "989c9675",
   "metadata": {},
   "outputs": [
    {
     "name": "stdout",
     "output_type": "stream",
     "text": [
      "7 8 9 10 11 12 13 14 15 16 17 18 19 20 21 22 23 24 25 26 27 28 \n",
      "\n",
      "7 8 9 10 11 12 13 14 15 16 17 18 19 20 21 22 23 24 25 26 27 28 "
     ]
    }
   ],
   "source": [
    "# a < b\n",
    "from_a_to_b_more(7, 28)\n",
    "print('\\n')\n",
    "from_a_to_b(7, 28)"
   ]
  },
  {
   "cell_type": "code",
   "execution_count": 332,
   "id": "dc39ca74",
   "metadata": {},
   "outputs": [
    {
     "name": "stdout",
     "output_type": "stream",
     "text": [
      "15 14 13 12 11 10 9 8 7 6 5 4 3 2 1 0 -1 -2 -3 -4 -5 -6 -7 -8 -9 -10 -11 -12 \n",
      "\n",
      "15 14 13 12 11 10 9 8 7 6 5 4 3 2 1 0 -1 -2 -3 -4 -5 -6 -7 -8 -9 -10 -11 -12 "
     ]
    }
   ],
   "source": [
    "# a > b\n",
    "from_a_to_b_less(15, -12)\n",
    "print('\\n')\n",
    "from_a_to_b(15, -12)"
   ]
  },
  {
   "cell_type": "markdown",
   "id": "95221c15",
   "metadata": {},
   "source": [
    "## factorial \n",
    "In mathematics, the factorial of a non-negative integer n, denoted by n!, is the product of all positive integers less than or equal to n. For example: 5! = 5 * 4 * 3 * 2 * 1 = 120. By convention the value of 0! is 1.\n",
    "\n",
    "Write a function to calculate factorial for a given input. If input is below 0 or above 12 throw an exception of type ArgumentOutOfRangeException (C#) or IllegalArgumentException (Java) or RangeException (PHP) or throw a RangeError (JavaScript) or ValueError (Python) or return -1 (C)."
   ]
  },
  {
   "cell_type": "code",
   "execution_count": 1,
   "id": "d3fbdfe5",
   "metadata": {},
   "outputs": [],
   "source": [
    "def factorial(n):\n",
    "    if n in (1, 0):\n",
    "        return 1\n",
    "    if n < 0 or n > 12:\n",
    "        raise ValueError()\n",
    "    return factorial(n - 1) * n"
   ]
  },
  {
   "cell_type": "code",
   "execution_count": 2,
   "id": "beddf50c",
   "metadata": {},
   "outputs": [
    {
     "data": {
      "text/plain": [
       "6"
      ]
     },
     "execution_count": 2,
     "metadata": {},
     "output_type": "execute_result"
    }
   ],
   "source": [
    "factorial(3)"
   ]
  },
  {
   "cell_type": "code",
   "execution_count": 1,
   "id": "dd976368",
   "metadata": {},
   "outputs": [],
   "source": [
    "def quick_sort(a):       \n",
    "    if len(a) < 2:\n",
    "        return a\n",
    "    \n",
    "    support_elem = a[len(a) // 2]\n",
    "    less_elem = [elem for elem in a if elem < support_elem]\n",
    "    more_elem = [elem for elem in a if elem > support_elem]\n",
    "    \n",
    "    return quick_sort(less_elem) + \\\n",
    "           [support_elem] + \\\n",
    "           quick_sort(more_elem)"
   ]
  },
  {
   "cell_type": "code",
   "execution_count": 2,
   "id": "0b2d7486",
   "metadata": {},
   "outputs": [
    {
     "data": {
      "text/plain": [
       "[76, 99]"
      ]
     },
     "execution_count": 2,
     "metadata": {},
     "output_type": "execute_result"
    }
   ],
   "source": [
    "a = [99, 76]\n",
    "quick_sort(a)"
   ]
  },
  {
   "cell_type": "code",
   "execution_count": null,
   "id": "75e80be7",
   "metadata": {},
   "outputs": [],
   "source": [
    "[1, 6, 8]"
   ]
  },
  {
   "cell_type": "code",
   "execution_count": 39,
   "id": "c5d3cfef-0f23-4a83-af49-76ae7f977811",
   "metadata": {},
   "outputs": [
    {
     "data": {
      "text/plain": [
       "[12, 27, 25, 5, 14, 7, 13, 6, 23, 18]"
      ]
     },
     "execution_count": 39,
     "metadata": {},
     "output_type": "execute_result"
    }
   ],
   "source": [
    "import numpy as np\n",
    "import random\n",
    "\n",
    "\n",
    "\n",
    "a = random.sample(range(5, 30), 10)\n",
    "a"
   ]
  },
  {
   "cell_type": "code",
   "execution_count": 44,
   "id": "706a68ef-cddf-4899-96ba-125bf3c65b59",
   "metadata": {},
   "outputs": [],
   "source": [
    "def bubble_sort(n):\n",
    "    i = 0\n",
    "    changes = 1\n",
    "    while(True):\n",
    "        print(n)\n",
    "        i += 1\n",
    "        elem_current = n[i]\n",
    "        elem_plus = n[i+1]\n",
    "        \n",
    "        if n[i] > n[i+1]:\n",
    "            n[i+1] = elem\n",
    "            n[i] = n[i]\n",
    "            \n",
    "            changes += 1\n",
    "        if i == len(n) - 1:\n",
    "            i = 0\n",
    "            change = 0\n",
    "            if change == 0:\n",
    "                break\n",
    "            \n",
    "            \n",
    "        \n",
    "    print(iteration)\n",
    "    return n"
   ]
  },
  {
   "cell_type": "code",
   "execution_count": 45,
   "id": "8fd255d7-021a-4eda-b429-ade0e027a34b",
   "metadata": {},
   "outputs": [
    {
     "name": "stdout",
     "output_type": "stream",
     "text": [
      "[12, 27, 27, 27, 27, 27, 27, 27, 27, 27]\n",
      "[12, 27, 27, 27, 27, 27, 27, 27, 27, 27]\n",
      "[12, 27, 27, 27, 27, 27, 27, 27, 27, 27]\n",
      "[12, 27, 27, 27, 27, 27, 27, 27, 27, 27]\n",
      "[12, 27, 27, 27, 27, 27, 27, 27, 27, 27]\n",
      "[12, 27, 27, 27, 27, 27, 27, 27, 27, 27]\n",
      "[12, 27, 27, 27, 27, 27, 27, 27, 27, 27]\n",
      "[12, 27, 27, 27, 27, 27, 27, 27, 27, 27]\n",
      "[12, 27, 27, 27, 27, 27, 27, 27, 27, 27]\n"
     ]
    },
    {
     "ename": "IndexError",
     "evalue": "list index out of range",
     "output_type": "error",
     "traceback": [
      "\u001b[0;31m---------------------------------------------------------------------------\u001b[0m",
      "\u001b[0;31mIndexError\u001b[0m                                Traceback (most recent call last)",
      "Input \u001b[0;32mIn [45]\u001b[0m, in \u001b[0;36m<cell line: 1>\u001b[0;34m()\u001b[0m\n\u001b[0;32m----> 1\u001b[0m \u001b[43mbubble_sort\u001b[49m\u001b[43m(\u001b[49m\u001b[43ma\u001b[49m\u001b[43m)\u001b[49m\n",
      "Input \u001b[0;32mIn [44]\u001b[0m, in \u001b[0;36mbubble_sort\u001b[0;34m(n)\u001b[0m\n\u001b[1;32m      5\u001b[0m \u001b[38;5;28mprint\u001b[39m(n)\n\u001b[1;32m      6\u001b[0m i \u001b[38;5;241m+\u001b[39m\u001b[38;5;241m=\u001b[39m \u001b[38;5;241m1\u001b[39m\n\u001b[0;32m----> 7\u001b[0m elem \u001b[38;5;241m=\u001b[39m \u001b[43mn\u001b[49m\u001b[43m[\u001b[49m\u001b[43mi\u001b[49m\u001b[38;5;241;43m+\u001b[39;49m\u001b[38;5;241;43m1\u001b[39;49m\u001b[43m]\u001b[49m\n\u001b[1;32m      8\u001b[0m \u001b[38;5;28;01mif\u001b[39;00m n[i] \u001b[38;5;241m>\u001b[39m n[i\u001b[38;5;241m+\u001b[39m\u001b[38;5;241m1\u001b[39m]:\n\u001b[1;32m      9\u001b[0m     n[i\u001b[38;5;241m+\u001b[39m\u001b[38;5;241m1\u001b[39m] \u001b[38;5;241m=\u001b[39m n[i]\n",
      "\u001b[0;31mIndexError\u001b[0m: list index out of range"
     ]
    }
   ],
   "source": [
    "bubble_sort(a)"
   ]
  },
  {
   "cell_type": "code",
   "execution_count": null,
   "id": "fd67e992-84c3-4861-bd11-4e3fb4f4a4c8",
   "metadata": {},
   "outputs": [],
   "source": []
  }
 ],
 "metadata": {
  "kernelspec": {
   "display_name": "Python 3 (ipykernel)",
   "language": "python",
   "name": "python3"
  },
  "language_info": {
   "codemirror_mode": {
    "name": "ipython",
    "version": 3
   },
   "file_extension": ".py",
   "mimetype": "text/x-python",
   "name": "python",
   "nbconvert_exporter": "python",
   "pygments_lexer": "ipython3",
   "version": "3.9.10"
  },
  "toc": {
   "base_numbering": 1,
   "nav_menu": {},
   "number_sections": true,
   "sideBar": true,
   "skip_h1_title": false,
   "title_cell": "Table of Contents",
   "title_sidebar": "Contents",
   "toc_cell": false,
   "toc_position": {
    "height": "calc(100% - 180px)",
    "left": "10px",
    "top": "150px",
    "width": "384px"
   },
   "toc_section_display": true,
   "toc_window_display": false
  }
 },
 "nbformat": 4,
 "nbformat_minor": 5
}
