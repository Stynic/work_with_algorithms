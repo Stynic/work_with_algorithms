{
 "cells": [
  {
   "cell_type": "markdown",
   "id": "ea8d05fe-191b-42f7-becc-3b94c710a7ca",
   "metadata": {},
   "source": [
    "## This notebook for train with algorithm of classification"
   ]
  },
  {
   "cell_type": "markdown",
   "id": "688d88af-f0f0-4edd-b62d-6d9411b429dc",
   "metadata": {},
   "source": [
    "### Decesion tree"
   ]
  },
  {
   "cell_type": "code",
   "execution_count": 41,
   "id": "ccb0f9e3-98f4-44b7-97a4-eb6f3e2db815",
   "metadata": {},
   "outputs": [],
   "source": [
    "from sklearn.tree import DecisionTreeClassifier\n",
    "from sklearn.datasets import make_classification\n",
    "from sklearn.model_selection import train_test_split\n",
    "\n",
    "import numpy as np\n",
    "import pandas as pd\n",
    "import matplotlib.pyplot as plt\n",
    "from math import log"
   ]
  },
  {
   "cell_type": "code",
   "execution_count": 43,
   "id": "223ec834-7c0c-4cdf-8f8a-098052208c71",
   "metadata": {},
   "outputs": [],
   "source": [
    "x, y = make_classification(n_samples=10,\n",
    "                           n_features=4,\n",
    "                           n_informative=3,\n",
    "                           n_redundant=1,\n",
    "                           random_state=17)\n",
    "x = pd.DataFrame(x)\n",
    "y = pd.DataFrame(y)\n",
    "x_train, x_test, y_train, y_test = train_test_split(x, y, test_size=.3, random_state=17)"
   ]
  },
  {
   "cell_type": "code",
   "execution_count": 57,
   "id": "9806c432-a35d-40c9-88d6-b913db3675b7",
   "metadata": {},
   "outputs": [
    {
     "data": {
      "text/html": [
       "<div>\n",
       "<style scoped>\n",
       "    .dataframe tbody tr th:only-of-type {\n",
       "        vertical-align: middle;\n",
       "    }\n",
       "\n",
       "    .dataframe tbody tr th {\n",
       "        vertical-align: top;\n",
       "    }\n",
       "\n",
       "    .dataframe thead th {\n",
       "        text-align: right;\n",
       "    }\n",
       "</style>\n",
       "<table border=\"1\" class=\"dataframe\">\n",
       "  <thead>\n",
       "    <tr style=\"text-align: right;\">\n",
       "      <th></th>\n",
       "      <th>0</th>\n",
       "      <th>1</th>\n",
       "      <th>2</th>\n",
       "      <th>3</th>\n",
       "    </tr>\n",
       "  </thead>\n",
       "  <tbody>\n",
       "    <tr>\n",
       "      <th>0</th>\n",
       "      <td>2.719649</td>\n",
       "      <td>0.098555</td>\n",
       "      <td>-2.438932</td>\n",
       "      <td>-2.594624</td>\n",
       "    </tr>\n",
       "    <tr>\n",
       "      <th>1</th>\n",
       "      <td>0.061377</td>\n",
       "      <td>-0.014801</td>\n",
       "      <td>0.010088</td>\n",
       "      <td>-0.178655</td>\n",
       "    </tr>\n",
       "    <tr>\n",
       "      <th>2</th>\n",
       "      <td>-0.647411</td>\n",
       "      <td>-1.704367</td>\n",
       "      <td>-0.216388</td>\n",
       "      <td>-3.295582</td>\n",
       "    </tr>\n",
       "  </tbody>\n",
       "</table>\n",
       "</div>"
      ],
      "text/plain": [
       "          0         1         2         3\n",
       "0  2.719649  0.098555 -2.438932 -2.594624\n",
       "1  0.061377 -0.014801  0.010088 -0.178655\n",
       "2 -0.647411 -1.704367 -0.216388 -3.295582"
      ]
     },
     "execution_count": 57,
     "metadata": {},
     "output_type": "execute_result"
    }
   ],
   "source": [
    "x.iloc[0:3]"
   ]
  },
  {
   "cell_type": "code",
   "execution_count": 58,
   "id": "577fb768-0388-48b5-b241-39cccee51d15",
   "metadata": {},
   "outputs": [
    {
     "data": {
      "text/html": [
       "<div>\n",
       "<style scoped>\n",
       "    .dataframe tbody tr th:only-of-type {\n",
       "        vertical-align: middle;\n",
       "    }\n",
       "\n",
       "    .dataframe tbody tr th {\n",
       "        vertical-align: top;\n",
       "    }\n",
       "\n",
       "    .dataframe thead th {\n",
       "        text-align: right;\n",
       "    }\n",
       "</style>\n",
       "<table border=\"1\" class=\"dataframe\">\n",
       "  <thead>\n",
       "    <tr style=\"text-align: right;\">\n",
       "      <th></th>\n",
       "      <th>0</th>\n",
       "    </tr>\n",
       "  </thead>\n",
       "  <tbody>\n",
       "    <tr>\n",
       "      <th>0</th>\n",
       "      <td>0</td>\n",
       "    </tr>\n",
       "    <tr>\n",
       "      <th>1</th>\n",
       "      <td>0</td>\n",
       "    </tr>\n",
       "    <tr>\n",
       "      <th>2</th>\n",
       "      <td>1</td>\n",
       "    </tr>\n",
       "  </tbody>\n",
       "</table>\n",
       "</div>"
      ],
      "text/plain": [
       "   0\n",
       "0  0\n",
       "1  0\n",
       "2  1"
      ]
     },
     "execution_count": 58,
     "metadata": {},
     "output_type": "execute_result"
    }
   ],
   "source": [
    "y.iloc[0:3]"
   ]
  },
  {
   "cell_type": "code",
   "execution_count": 252,
   "id": "3ec46100-4749-4ef5-8590-d963cc6ff93c",
   "metadata": {},
   "outputs": [],
   "source": [
    "class DecisionTree:\n",
    "    def __init__(self, max_depth=None):\n",
    "        self.max_depth = max_depth\n",
    "    \n",
    "    def fit(self, x, y):\n",
    "        \n",
    "        def entropy(elements):\n",
    "            N = len(elements)\n",
    "            print(elements)\n",
    "            return  \n",
    "        \n",
    "        def inforamtion_gain(N):\n",
    "            return (1 / N)\n",
    "        \n",
    "        features = x.columns\n",
    "        x_concat = np.concatenate((x, y.values.reshape(-1, 1)), axis=1)\n",
    "        max_features = {'none': 1}\n",
    "        \n",
    "        for feature in features:\n",
    "            right_elements = pd.DataFrame([], columns=[0, 1])\n",
    "            left_elements = pd.DataFrame([], columns=[0, 1])\n",
    "            predicat = x[feature].mean()\n",
    "            \n",
    "            for i in range(len(x)):\n",
    "                node = pd.DataFrame([[x.iloc[i, feature], y.iloc[i, 0]]])\n",
    "                if x.iloc[i, feature] > predicat:   \n",
    "                    right_elements = pd.concat([right_elements, node], ignore_index=True)\n",
    "                else:            \n",
    "                    left_elements= pd.concat([left_elements, node], ignore_index=True)\n",
    "            N = len(right_elements) + len(left_elements)\n",
    "            right_entropy = entropy(right_elements)\n",
    "            left_entropy = entropy(left_elements)\n",
    "            \n",
    "            ig = inforamtion_gain(N)\n",
    "            "
   ]
  },
  {
   "cell_type": "code",
   "execution_count": 253,
   "id": "2b96989a-6d1a-467a-8163-1f45a7cc84d4",
   "metadata": {},
   "outputs": [
    {
     "name": "stdout",
     "output_type": "stream",
     "text": [
      "          0  1\n",
      "0  2.928111  1\n",
      "1  2.719649  0\n",
      "          0  1\n",
      "0 -0.279861  0\n",
      "1 -0.914885  0\n",
      "2 -0.372829  1\n",
      "3 -0.216699  0\n",
      "4  0.061377  0\n",
      "          0  1\n",
      "0  0.762493  0\n",
      "1  3.919825  1\n",
      "          0  1\n",
      "0  0.098555  0\n",
      "1 -0.436577  0\n",
      "2  0.225064  1\n",
      "3  0.483652  0\n",
      "4 -0.014801  0\n",
      "          0  1\n",
      "0  3.558355  1\n",
      "1  1.109714  1\n",
      "2  0.010088  0\n",
      "          0  1\n",
      "0 -0.398852  0\n",
      "1 -2.438932  0\n",
      "2 -0.743132  0\n",
      "3 -1.076317  0\n",
      "          0  1\n",
      "0  3.182702  0\n",
      "1  1.274838  1\n",
      "2  1.442094  0\n",
      "3  3.003855  0\n",
      "          0  1\n",
      "0 -2.594624  0\n",
      "1  0.183148  1\n",
      "2 -0.178655  0\n",
      "CPU times: user 40.4 ms, sys: 3.4 ms, total: 43.8 ms\n",
      "Wall time: 41 ms\n"
     ]
    }
   ],
   "source": [
    "%%time\n",
    "tree = DecisionTree(max_depth=1).fit(x_train, y_train)"
   ]
  },
  {
   "cell_type": "code",
   "execution_count": null,
   "id": "b4d34b62-8504-4269-a8ed-70d67bd1e077",
   "metadata": {},
   "outputs": [
    {
     "data": {
      "text/plain": [
       "0    4\n",
       "1    1\n",
       "Name: 1, dtype: int64"
      ]
     },
     "execution_count": 147,
     "metadata": {},
     "output_type": "execute_result"
    }
   ],
   "source": [
    "list1[1].value_counts()"
   ]
  },
  {
   "cell_type": "code",
   "execution_count": null,
   "id": "cd815cf6-34ce-4090-a1cc-09c20b8e08f2",
   "metadata": {},
   "outputs": [],
   "source": []
  }
 ],
 "metadata": {
  "kernelspec": {
   "display_name": "Python 3 (ipykernel)",
   "language": "python",
   "name": "python3"
  },
  "language_info": {
   "codemirror_mode": {
    "name": "ipython",
    "version": 3
   },
   "file_extension": ".py",
   "mimetype": "text/x-python",
   "name": "python",
   "nbconvert_exporter": "python",
   "pygments_lexer": "ipython3",
   "version": "3.9.10"
  },
  "toc": {
   "base_numbering": 1,
   "nav_menu": {},
   "number_sections": true,
   "sideBar": true,
   "skip_h1_title": false,
   "title_cell": "Table of Contents",
   "title_sidebar": "Contents",
   "toc_cell": false,
   "toc_position": {
    "height": "calc(100% - 180px)",
    "left": "10px",
    "top": "150px",
    "width": "384px"
   },
   "toc_section_display": true,
   "toc_window_display": false
  }
 },
 "nbformat": 4,
 "nbformat_minor": 5
}
