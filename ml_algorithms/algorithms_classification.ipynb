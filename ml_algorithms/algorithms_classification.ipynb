{
 "cells": [
  {
   "cell_type": "markdown",
   "id": "ea8d05fe-191b-42f7-becc-3b94c710a7ca",
   "metadata": {},
   "source": [
    "## This notebook for train with algorithm of classification"
   ]
  },
  {
   "cell_type": "markdown",
   "id": "688d88af-f0f0-4edd-b62d-6d9411b429dc",
   "metadata": {},
   "source": [
    "### Decesion tree"
   ]
  },
  {
   "cell_type": "code",
   "execution_count": 41,
   "id": "ccb0f9e3-98f4-44b7-97a4-eb6f3e2db815",
   "metadata": {},
   "outputs": [],
   "source": [
    "from sklearn.tree import DecisionTreeClassifier\n",
    "from sklearn.datasets import make_classification\n",
    "from sklearn.model_selection import train_test_split\n",
    "\n",
    "import numpy as np\n",
    "import pandas as pd\n",
    "import matplotlib.pyplot as plt\n",
    "from math import log"
   ]
  },
  {
   "cell_type": "code",
   "execution_count": 43,
   "id": "223ec834-7c0c-4cdf-8f8a-098052208c71",
   "metadata": {},
   "outputs": [],
   "source": [
    "x, y = make_classification(n_samples=10,\n",
    "                           n_features=4,\n",
    "                           n_informative=3,\n",
    "                           n_redundant=1,\n",
    "                           random_state=17)\n",
    "x = pd.DataFrame(x)\n",
    "y = pd.DataFrame(y)\n",
    "x_train, x_test, y_train, y_test = train_test_split(x, y, test_size=.3, random_state=17)"
   ]
  },
  {
   "cell_type": "code",
   "execution_count": 57,
   "id": "9806c432-a35d-40c9-88d6-b913db3675b7",
   "metadata": {},
   "outputs": [
    {
     "data": {
      "text/html": [
       "<div>\n",
       "<style scoped>\n",
       "    .dataframe tbody tr th:only-of-type {\n",
       "        vertical-align: middle;\n",
       "    }\n",
       "\n",
       "    .dataframe tbody tr th {\n",
       "        vertical-align: top;\n",
       "    }\n",
       "\n",
       "    .dataframe thead th {\n",
       "        text-align: right;\n",
       "    }\n",
       "</style>\n",
       "<table border=\"1\" class=\"dataframe\">\n",
       "  <thead>\n",
       "    <tr style=\"text-align: right;\">\n",
       "      <th></th>\n",
       "      <th>0</th>\n",
       "      <th>1</th>\n",
       "      <th>2</th>\n",
       "      <th>3</th>\n",
       "    </tr>\n",
       "  </thead>\n",
       "  <tbody>\n",
       "    <tr>\n",
       "      <th>0</th>\n",
       "      <td>2.719649</td>\n",
       "      <td>0.098555</td>\n",
       "      <td>-2.438932</td>\n",
       "      <td>-2.594624</td>\n",
       "    </tr>\n",
       "    <tr>\n",
       "      <th>1</th>\n",
       "      <td>0.061377</td>\n",
       "      <td>-0.014801</td>\n",
       "      <td>0.010088</td>\n",
       "      <td>-0.178655</td>\n",
       "    </tr>\n",
       "    <tr>\n",
       "      <th>2</th>\n",
       "      <td>-0.647411</td>\n",
       "      <td>-1.704367</td>\n",
       "      <td>-0.216388</td>\n",
       "      <td>-3.295582</td>\n",
       "    </tr>\n",
       "  </tbody>\n",
       "</table>\n",
       "</div>"
      ],
      "text/plain": [
       "          0         1         2         3\n",
       "0  2.719649  0.098555 -2.438932 -2.594624\n",
       "1  0.061377 -0.014801  0.010088 -0.178655\n",
       "2 -0.647411 -1.704367 -0.216388 -3.295582"
      ]
     },
     "execution_count": 57,
     "metadata": {},
     "output_type": "execute_result"
    }
   ],
   "source": [
    "x.iloc[0:3]"
   ]
  },
  {
   "cell_type": "code",
   "execution_count": 58,
   "id": "577fb768-0388-48b5-b241-39cccee51d15",
   "metadata": {},
   "outputs": [
    {
     "data": {
      "text/html": [
       "<div>\n",
       "<style scoped>\n",
       "    .dataframe tbody tr th:only-of-type {\n",
       "        vertical-align: middle;\n",
       "    }\n",
       "\n",
       "    .dataframe tbody tr th {\n",
       "        vertical-align: top;\n",
       "    }\n",
       "\n",
       "    .dataframe thead th {\n",
       "        text-align: right;\n",
       "    }\n",
       "</style>\n",
       "<table border=\"1\" class=\"dataframe\">\n",
       "  <thead>\n",
       "    <tr style=\"text-align: right;\">\n",
       "      <th></th>\n",
       "      <th>0</th>\n",
       "    </tr>\n",
       "  </thead>\n",
       "  <tbody>\n",
       "    <tr>\n",
       "      <th>0</th>\n",
       "      <td>0</td>\n",
       "    </tr>\n",
       "    <tr>\n",
       "      <th>1</th>\n",
       "      <td>0</td>\n",
       "    </tr>\n",
       "    <tr>\n",
       "      <th>2</th>\n",
       "      <td>1</td>\n",
       "    </tr>\n",
       "  </tbody>\n",
       "</table>\n",
       "</div>"
      ],
      "text/plain": [
       "   0\n",
       "0  0\n",
       "1  0\n",
       "2  1"
      ]
     },
     "execution_count": 58,
     "metadata": {},
     "output_type": "execute_result"
    }
   ],
   "source": [
    "y.iloc[0:3]"
   ]
  },
  {
   "cell_type": "code",
   "execution_count": 161,
   "id": "3ec46100-4749-4ef5-8590-d963cc6ff93c",
   "metadata": {},
   "outputs": [],
   "source": [
    "class DecisionTree:\n",
    "    def __init__(self, max_depth=None):\n",
    "        self.max_depth = max_depth\n",
    "    \n",
    "    def fit(self, x, y):\n",
    "        \n",
    "        def entropy(elements):\n",
    "            N = len(elements)\n",
    "            print(elements)\n",
    "            return  \n",
    "        \n",
    "        def inforamtion_gain(N):\n",
    "            return (1 / N)\n",
    "        \n",
    "        features = x.columns\n",
    "        x_concat = np.concatenate((x, y.values.reshape(-1, 1)), axis=1)\n",
    "        max_features = {'none': 1}\n",
    "        \n",
    "        for feature in features:\n",
    "            right_elements = pd.DataFrame([])\n",
    "            left_elements = pd.DataFrame([])\n",
    "            predicat = x[feature].mean()\n",
    "            \n",
    "            for i in range(len(x)):\n",
    "                node = {0:x.iloc[i, feature], 1:y.iloc[i, 0]}\n",
    "                (right_elements.append(node, ignore_index=True)\n",
    "                                       if x.iloc[i, feature] > predicat \n",
    "                                       else left_elements.append(node, ignore_index=True))\n",
    "            N = len(right_elements) + len(left_elements)\n",
    "            right_entropy = entropy(right_elements)\n",
    "            left_entropy = entropy(left_elements)\n",
    "            \n",
    "            ig = inforamtion_gain(N)\n",
    "            "
   ]
  },
  {
   "cell_type": "code",
   "execution_count": 162,
   "id": "2b96989a-6d1a-467a-8163-1f45a7cc84d4",
   "metadata": {},
   "outputs": [
    {
     "name": "stdout",
     "output_type": "stream",
     "text": [
      "Empty DataFrame\n",
      "Columns: []\n",
      "Index: []\n",
      "Empty DataFrame\n",
      "Columns: []\n",
      "Index: []\n"
     ]
    },
    {
     "name": "stderr",
     "output_type": "stream",
     "text": [
      "/tmp/ipykernel_41130/4173082794.py:28: FutureWarning: The frame.append method is deprecated and will be removed from pandas in a future version. Use pandas.concat instead.\n",
      "  else left_elements.append(node, ignore_index=True))\n",
      "/tmp/ipykernel_41130/4173082794.py:26: FutureWarning: The frame.append method is deprecated and will be removed from pandas in a future version. Use pandas.concat instead.\n",
      "  (right_elements.append(node, ignore_index=True)\n",
      "/tmp/ipykernel_41130/4173082794.py:26: FutureWarning: The frame.append method is deprecated and will be removed from pandas in a future version. Use pandas.concat instead.\n",
      "  (right_elements.append(node, ignore_index=True)\n",
      "/tmp/ipykernel_41130/4173082794.py:28: FutureWarning: The frame.append method is deprecated and will be removed from pandas in a future version. Use pandas.concat instead.\n",
      "  else left_elements.append(node, ignore_index=True))\n",
      "/tmp/ipykernel_41130/4173082794.py:28: FutureWarning: The frame.append method is deprecated and will be removed from pandas in a future version. Use pandas.concat instead.\n",
      "  else left_elements.append(node, ignore_index=True))\n",
      "/tmp/ipykernel_41130/4173082794.py:28: FutureWarning: The frame.append method is deprecated and will be removed from pandas in a future version. Use pandas.concat instead.\n",
      "  else left_elements.append(node, ignore_index=True))\n",
      "/tmp/ipykernel_41130/4173082794.py:28: FutureWarning: The frame.append method is deprecated and will be removed from pandas in a future version. Use pandas.concat instead.\n",
      "  else left_elements.append(node, ignore_index=True))\n"
     ]
    },
    {
     "ename": "ZeroDivisionError",
     "evalue": "division by zero",
     "output_type": "error",
     "traceback": [
      "\u001b[0;31m---------------------------------------------------------------------------\u001b[0m",
      "\u001b[0;31mZeroDivisionError\u001b[0m                         Traceback (most recent call last)",
      "File \u001b[0;32m<timed exec>:1\u001b[0m, in \u001b[0;36m<module>\u001b[0;34m\u001b[0m\n",
      "Input \u001b[0;32mIn [161]\u001b[0m, in \u001b[0;36mDecisionTree.fit\u001b[0;34m(self, x, y)\u001b[0m\n\u001b[1;32m     30\u001b[0m right_entropy \u001b[38;5;241m=\u001b[39m entropy(right_elements)\n\u001b[1;32m     31\u001b[0m left_entropy \u001b[38;5;241m=\u001b[39m entropy(left_elements)\n\u001b[0;32m---> 33\u001b[0m ig \u001b[38;5;241m=\u001b[39m \u001b[43minforamtion_gain\u001b[49m\u001b[43m(\u001b[49m\u001b[43mN\u001b[49m\u001b[43m)\u001b[49m\n",
      "Input \u001b[0;32mIn [161]\u001b[0m, in \u001b[0;36mDecisionTree.fit.<locals>.inforamtion_gain\u001b[0;34m(N)\u001b[0m\n\u001b[1;32m     12\u001b[0m \u001b[38;5;28;01mdef\u001b[39;00m \u001b[38;5;21minforamtion_gain\u001b[39m(N):\n\u001b[0;32m---> 13\u001b[0m     \u001b[38;5;28;01mreturn\u001b[39;00m (\u001b[38;5;241;43m1\u001b[39;49m\u001b[43m \u001b[49m\u001b[38;5;241;43m/\u001b[39;49m\u001b[43m \u001b[49m\u001b[43mN\u001b[49m)\n",
      "\u001b[0;31mZeroDivisionError\u001b[0m: division by zero"
     ]
    }
   ],
   "source": [
    "%%time\n",
    "tree = DecisionTree(max_depth=1).fit(x_train, y_train)"
   ]
  },
  {
   "cell_type": "code",
   "execution_count": 143,
   "id": "859de81f-e01f-4246-ad3c-f71ab6e453af",
   "metadata": {},
   "outputs": [],
   "source": [
    "list1 = [[-0.279860778784765, 0], [-0.9148845045917442, 0], [-0.3728285179012326, 1], [-0.21669857529664138, 0], [0.06137694471010302, 0]]\n",
    "list1 = pd.DataFrame(list1)"
   ]
  },
  {
   "cell_type": "code",
   "execution_count": 151,
   "id": "34ff75e6-fa53-4271-8482-252920393acf",
   "metadata": {},
   "outputs": [
    {
     "data": {
      "text/html": [
       "<div>\n",
       "<style scoped>\n",
       "    .dataframe tbody tr th:only-of-type {\n",
       "        vertical-align: middle;\n",
       "    }\n",
       "\n",
       "    .dataframe tbody tr th {\n",
       "        vertical-align: top;\n",
       "    }\n",
       "\n",
       "    .dataframe thead th {\n",
       "        text-align: right;\n",
       "    }\n",
       "</style>\n",
       "<table border=\"1\" class=\"dataframe\">\n",
       "  <thead>\n",
       "    <tr style=\"text-align: right;\">\n",
       "      <th></th>\n",
       "      <th>0</th>\n",
       "      <th>1</th>\n",
       "    </tr>\n",
       "  </thead>\n",
       "  <tbody>\n",
       "    <tr>\n",
       "      <th>0</th>\n",
       "      <td>-0.279861</td>\n",
       "      <td>0</td>\n",
       "    </tr>\n",
       "    <tr>\n",
       "      <th>1</th>\n",
       "      <td>-0.914885</td>\n",
       "      <td>0</td>\n",
       "    </tr>\n",
       "    <tr>\n",
       "      <th>2</th>\n",
       "      <td>-0.372829</td>\n",
       "      <td>1</td>\n",
       "    </tr>\n",
       "    <tr>\n",
       "      <th>3</th>\n",
       "      <td>-0.216699</td>\n",
       "      <td>0</td>\n",
       "    </tr>\n",
       "    <tr>\n",
       "      <th>4</th>\n",
       "      <td>0.061377</td>\n",
       "      <td>0</td>\n",
       "    </tr>\n",
       "  </tbody>\n",
       "</table>\n",
       "</div>"
      ],
      "text/plain": [
       "          0  1\n",
       "0 -0.279861  0\n",
       "1 -0.914885  0\n",
       "2 -0.372829  1\n",
       "3 -0.216699  0\n",
       "4  0.061377  0"
      ]
     },
     "execution_count": 151,
     "metadata": {},
     "output_type": "execute_result"
    }
   ],
   "source": [
    "list1"
   ]
  },
  {
   "cell_type": "code",
   "execution_count": 147,
   "id": "b4d34b62-8504-4269-a8ed-70d67bd1e077",
   "metadata": {},
   "outputs": [
    {
     "data": {
      "text/plain": [
       "0    4\n",
       "1    1\n",
       "Name: 1, dtype: int64"
      ]
     },
     "execution_count": 147,
     "metadata": {},
     "output_type": "execute_result"
    }
   ],
   "source": [
    "list1[1].value_counts()"
   ]
  },
  {
   "cell_type": "code",
   "execution_count": 154,
   "id": "3d78792c-dd7b-45f1-9bf7-d45d3bc1700c",
   "metadata": {},
   "outputs": [
    {
     "name": "stderr",
     "output_type": "stream",
     "text": [
      "/tmp/ipykernel_41130/1099226923.py:1: FutureWarning: The frame.append method is deprecated and will be removed from pandas in a future version. Use pandas.concat instead.\n",
      "  list1.append({0:1, 1:2}, ignore_index=True)\n"
     ]
    },
    {
     "data": {
      "text/html": [
       "<div>\n",
       "<style scoped>\n",
       "    .dataframe tbody tr th:only-of-type {\n",
       "        vertical-align: middle;\n",
       "    }\n",
       "\n",
       "    .dataframe tbody tr th {\n",
       "        vertical-align: top;\n",
       "    }\n",
       "\n",
       "    .dataframe thead th {\n",
       "        text-align: right;\n",
       "    }\n",
       "</style>\n",
       "<table border=\"1\" class=\"dataframe\">\n",
       "  <thead>\n",
       "    <tr style=\"text-align: right;\">\n",
       "      <th></th>\n",
       "      <th>0</th>\n",
       "      <th>1</th>\n",
       "    </tr>\n",
       "  </thead>\n",
       "  <tbody>\n",
       "    <tr>\n",
       "      <th>0</th>\n",
       "      <td>-0.279861</td>\n",
       "      <td>0</td>\n",
       "    </tr>\n",
       "    <tr>\n",
       "      <th>1</th>\n",
       "      <td>-0.914885</td>\n",
       "      <td>0</td>\n",
       "    </tr>\n",
       "    <tr>\n",
       "      <th>2</th>\n",
       "      <td>-0.372829</td>\n",
       "      <td>1</td>\n",
       "    </tr>\n",
       "    <tr>\n",
       "      <th>3</th>\n",
       "      <td>-0.216699</td>\n",
       "      <td>0</td>\n",
       "    </tr>\n",
       "    <tr>\n",
       "      <th>4</th>\n",
       "      <td>0.061377</td>\n",
       "      <td>0</td>\n",
       "    </tr>\n",
       "    <tr>\n",
       "      <th>5</th>\n",
       "      <td>1.000000</td>\n",
       "      <td>2</td>\n",
       "    </tr>\n",
       "  </tbody>\n",
       "</table>\n",
       "</div>"
      ],
      "text/plain": [
       "          0  1\n",
       "0 -0.279861  0\n",
       "1 -0.914885  0\n",
       "2 -0.372829  1\n",
       "3 -0.216699  0\n",
       "4  0.061377  0\n",
       "5  1.000000  2"
      ]
     },
     "execution_count": 154,
     "metadata": {},
     "output_type": "execute_result"
    }
   ],
   "source": [
    "list1.append({0:1, 1:2}, ignore_index=True)"
   ]
  },
  {
   "cell_type": "code",
   "execution_count": null,
   "id": "d8301de6-4b94-4dd1-8557-29ae14f5fb35",
   "metadata": {},
   "outputs": [],
   "source": []
  }
 ],
 "metadata": {
  "kernelspec": {
   "display_name": "Python 3 (ipykernel)",
   "language": "python",
   "name": "python3"
  },
  "language_info": {
   "codemirror_mode": {
    "name": "ipython",
    "version": 3
   },
   "file_extension": ".py",
   "mimetype": "text/x-python",
   "name": "python",
   "nbconvert_exporter": "python",
   "pygments_lexer": "ipython3",
   "version": "3.9.10"
  },
  "toc": {
   "base_numbering": 1,
   "nav_menu": {},
   "number_sections": true,
   "sideBar": true,
   "skip_h1_title": false,
   "title_cell": "Table of Contents",
   "title_sidebar": "Contents",
   "toc_cell": false,
   "toc_position": {
    "height": "calc(100% - 180px)",
    "left": "10px",
    "top": "150px",
    "width": "384px"
   },
   "toc_section_display": true,
   "toc_window_display": false
  }
 },
 "nbformat": 4,
 "nbformat_minor": 5
}
