{
 "cells": [
  {
   "cell_type": "markdown",
   "id": "c034d5c5",
   "metadata": {},
   "source": [
    "#  Started leaning different algorithms.\n",
    "## First algoritms : Binary algorithms\n"
   ]
  },
  {
   "cell_type": "code",
   "execution_count": 41,
   "id": "52a095d4",
   "metadata": {},
   "outputs": [],
   "source": [
    "import timeit"
   ]
  },
  {
   "cell_type": "code",
   "execution_count": 77,
   "id": "673ea550",
   "metadata": {},
   "outputs": [],
   "source": [
    "def simple_search(list, item):\n",
    "    low = 0\n",
    "    high = len(list) - 1\n",
    "    iteration = 0\n",
    "    \n",
    "    while low <= high:\n",
    "        mid = low + high\n",
    "        guess = list[mid]\n",
    "        iteration += 1\n",
    "        if guess == item:\n",
    "            return f'Element item found in index: \"{mid}\" Iterations: {iteration}'\n",
    "        if guess > item:\n",
    "            high = mid - 1\n",
    "        else:\n",
    "            low = mid + 1\n",
    "    return None"
   ]
  },
  {
   "cell_type": "code",
   "execution_count": 78,
   "id": "b0802851",
   "metadata": {},
   "outputs": [],
   "source": [
    "def binary_search(list, item):\n",
    "    low = 0\n",
    "    high = len(list) - 1\n",
    "    iteration = 0\n",
    "    \n",
    "    while low <= high:\n",
    "        mid = (low + high) // 2\n",
    "        guess = list[mid]\n",
    "        iteration += 1\n",
    "        if guess == item:\n",
    "            return f'Element item found in index: \"{mid}\" Iterations: {iteration}'\n",
    "        if guess > item:\n",
    "            high = mid - 1\n",
    "        else:\n",
    "            low = mid + 1\n",
    "    return None"
   ]
  },
  {
   "cell_type": "code",
   "execution_count": 79,
   "id": "3652a13b",
   "metadata": {},
   "outputs": [
    {
     "name": "stdout",
     "output_type": "stream",
     "text": [
      "Element item found in index: \"1\" Iterations: 4\n"
     ]
    }
   ],
   "source": [
    "my_list = [1,3, 5, 7, 9, 52, 76, 99, 128, 425, 674]\n",
    "print(binary_search(my_list, 3))"
   ]
  },
  {
   "cell_type": "code",
   "execution_count": 84,
   "id": "b04f0739",
   "metadata": {},
   "outputs": [
    {
     "data": {
      "text/plain": [
       "'Element item found in index: \"264\" Iterations: 736'"
      ]
     },
     "execution_count": 84,
     "metadata": {},
     "output_type": "execute_result"
    }
   ],
   "source": [
    "list_check = [num for num in range(1000)]\n",
    "simple_search(list_check, 264)"
   ]
  },
  {
   "cell_type": "code",
   "execution_count": 85,
   "id": "9cdae40d",
   "metadata": {},
   "outputs": [
    {
     "data": {
      "text/plain": [
       "'Element item found in index: \"264\" Iterations: 6'"
      ]
     },
     "execution_count": 85,
     "metadata": {},
     "output_type": "execute_result"
    }
   ],
   "source": [
    "binary_search(list_check, 264)"
   ]
  },
  {
   "cell_type": "code",
   "execution_count": null,
   "id": "13ff5090",
   "metadata": {},
   "outputs": [],
   "source": []
  }
 ],
 "metadata": {
  "kernelspec": {
   "display_name": "Python 3 (ipykernel)",
   "language": "python",
   "name": "python3"
  },
  "language_info": {
   "codemirror_mode": {
    "name": "ipython",
    "version": 3
   },
   "file_extension": ".py",
   "mimetype": "text/x-python",
   "name": "python",
   "nbconvert_exporter": "python",
   "pygments_lexer": "ipython3",
   "version": "3.8.10"
  },
  "toc": {
   "base_numbering": 1,
   "nav_menu": {},
   "number_sections": true,
   "sideBar": true,
   "skip_h1_title": false,
   "title_cell": "Table of Contents",
   "title_sidebar": "Contents",
   "toc_cell": false,
   "toc_position": {},
   "toc_section_display": true,
   "toc_window_display": true
  }
 },
 "nbformat": 4,
 "nbformat_minor": 5
}
